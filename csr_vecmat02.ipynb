{
 "metadata": {
  "name": "",
  "signature": "sha256:3606c7a9770e28c57b32905007afb1b25465cd9af59c17dc8acadd127721ea59"
 },
 "nbformat": 3,
 "nbformat_minor": 0,
 "worksheets": [
  {
   "cells": [
    {
     "cell_type": "code",
     "collapsed": false,
     "input": [
      "import numpy as np\n",
      "from scipy import sparse\n",
      "from numba import jit"
     ],
     "language": "python",
     "metadata": {},
     "outputs": [],
     "prompt_number": 1
    },
    {
     "cell_type": "code",
     "collapsed": false,
     "input": [
      "n, m = 5, 5\n",
      "A = sparse.rand(n, m, density=0.4, format='csr')"
     ],
     "language": "python",
     "metadata": {},
     "outputs": [],
     "prompt_number": 2
    },
    {
     "cell_type": "code",
     "collapsed": false,
     "input": [
      "print A.toarray()\n",
      "print A.data\n",
      "print 'indeces =', A.indices\n",
      "print 'indptr  =', A.indptr"
     ],
     "language": "python",
     "metadata": {},
     "outputs": [
      {
       "output_type": "stream",
       "stream": "stdout",
       "text": [
        "[[ 0.          0.95992723  0.          0.          0.        ]\n",
        " [ 0.12104877  0.          0.          0.54592141  0.59000769]\n",
        " [ 0.          0.          0.79035446  0.6407521   0.        ]\n",
        " [ 0.          0.          0.          0.02540113  0.93112072]\n",
        " [ 0.75999549  0.          0.          0.          0.59062903]]\n",
        "[ 0.95992723  0.12104877  0.54592141  0.59000769  0.79035446  0.6407521\n",
        "  0.02540113  0.93112072  0.75999549  0.59062903]\n",
        "indeces = [1 0 3 4 2 3 3 4 0 4]\n",
        "indptr  = [ 0  1  4  6  8 10]\n"
       ]
      }
     ],
     "prompt_number": 3
    },
    {
     "cell_type": "code",
     "collapsed": false,
     "input": [
      "@jit(nopython=True)\n",
      "def _csr_vecmat(num_rows, x, data, indices, indptr, out):\n",
      "    for i in range(num_rows):\n",
      "        for k in range(indptr[i], indptr[i+1]):\n",
      "            out[indices[k]] += x[i] * data[k]"
     ],
     "language": "python",
     "metadata": {},
     "outputs": [],
     "prompt_number": 4
    },
    {
     "cell_type": "code",
     "collapsed": false,
     "input": [
      "@jit(nopython=True)\n",
      "def _csr_matvec(num_rows, data, indices, indptr, x, out):\n",
      "    for i in range(num_rows):\n",
      "        dot_prod = 0\n",
      "        for k in range(indptr[i], indptr[i+1]):\n",
      "            dot_prod += data[k] * x[indices[k]]\n",
      "        out[i] = dot_prod"
     ],
     "language": "python",
     "metadata": {},
     "outputs": [],
     "prompt_number": 5
    },
    {
     "cell_type": "code",
     "collapsed": false,
     "input": [
      "@jit(nopython=True)\n",
      "def _csc_vecmat(num_cols, x, data, indices, indptr, out):\n",
      "    for j in range(num_cols):\n",
      "        dot_prod = 0\n",
      "        for k in range(indptr[j], indptr[j+1]):\n",
      "            dot_prod += data[k] * x[indices[k]]\n",
      "        out[j] = dot_prod"
     ],
     "language": "python",
     "metadata": {},
     "outputs": [],
     "prompt_number": 6
    },
    {
     "cell_type": "code",
     "collapsed": false,
     "input": [
      "x = np.arange(n)"
     ],
     "language": "python",
     "metadata": {},
     "outputs": [],
     "prompt_number": 7
    },
    {
     "cell_type": "code",
     "collapsed": false,
     "input": [
      "y = np.empty(m)\n",
      "A_csc = sparse.csc_matrix(A)\n",
      "_csc_vecmat(m, x, A_csc.data, A_csc.indices, A_csc.indptr, y)\n",
      "print y"
     ],
     "language": "python",
     "metadata": {},
     "outputs": [
      {
       "output_type": "stream",
       "stream": "stdout",
       "text": [
        "[ 3.16103073  0.          1.58070893  1.90362899  5.74588597]\n"
       ]
      }
     ],
     "prompt_number": 8
    },
    {
     "cell_type": "code",
     "collapsed": false,
     "input": [
      "x.dot(A.toarray())"
     ],
     "language": "python",
     "metadata": {},
     "outputs": [
      {
       "metadata": {},
       "output_type": "pyout",
       "prompt_number": 9,
       "text": [
        "array([ 3.16103073,  0.        ,  1.58070893,  1.90362899,  5.74588597])"
       ]
      }
     ],
     "prompt_number": 9
    },
    {
     "cell_type": "code",
     "collapsed": false,
     "input": [
      "y = np.empty(m)\n",
      "_csr_vecmat(n, x, A.data, A.indices, A.indptr, y)\n",
      "print y"
     ],
     "language": "python",
     "metadata": {},
     "outputs": [
      {
       "output_type": "stream",
       "stream": "stdout",
       "text": [
        "[ 3.16103073  0.          1.58070893  1.90362899  5.74588597]\n"
       ]
      }
     ],
     "prompt_number": 10
    },
    {
     "cell_type": "code",
     "collapsed": false,
     "input": [
      "y = np.empty(m)\n",
      "A_csc = sparse.csc_matrix(A)\n",
      "%timeit _csc_vecmat(m, x, A_csc.data, A_csc.indices, A_csc.indptr, y)\n",
      "\n",
      "y = np.empty(m)\n",
      "%timeit _csr_vecmat(n, x, A.data, A.indices, A.indptr, y)"
     ],
     "language": "python",
     "metadata": {},
     "outputs": [
      {
       "output_type": "stream",
       "stream": "stdout",
       "text": [
        "1000000 loops, best of 3: 611 ns per loop\n",
        "1000000 loops, best of 3: 627 ns per loop"
       ]
      },
      {
       "output_type": "stream",
       "stream": "stdout",
       "text": [
        "\n"
       ]
      }
     ],
     "prompt_number": 11
    },
    {
     "cell_type": "code",
     "collapsed": false,
     "input": [
      "def csr_vecmat(x, A):\n",
      "    n, m = A.shape\n",
      "    if len(x) != n:\n",
      "        raise ValueError('dimensions do not match')\n",
      "    y = np.zeros(m)\n",
      "    \n",
      "    A_csc = sparse.csc_matrix(A)\n",
      "    _csc_vecmat(m, x, A_csc.data, A_csc.indices, A_csc.indptr, y)\n",
      "    return y"
     ],
     "language": "python",
     "metadata": {},
     "outputs": [],
     "prompt_number": 12
    },
    {
     "cell_type": "code",
     "collapsed": false,
     "input": [
      "csr_vecmat(x, A)"
     ],
     "language": "python",
     "metadata": {},
     "outputs": [
      {
       "metadata": {},
       "output_type": "pyout",
       "prompt_number": 13,
       "text": [
        "array([ 3.16103073,  0.        ,  1.58070893,  1.90362899,  5.74588597])"
       ]
      }
     ],
     "prompt_number": 13
    },
    {
     "cell_type": "code",
     "collapsed": false,
     "input": [
      "A.T.dot(x)"
     ],
     "language": "python",
     "metadata": {},
     "outputs": [
      {
       "metadata": {},
       "output_type": "pyout",
       "prompt_number": 14,
       "text": [
        "array([ 3.16103073,  0.        ,  1.58070893,  1.90362899,  5.74588597])"
       ]
      }
     ],
     "prompt_number": 14
    },
    {
     "cell_type": "code",
     "collapsed": false,
     "input": [
      "x.dot(A.toarray())"
     ],
     "language": "python",
     "metadata": {},
     "outputs": [
      {
       "metadata": {},
       "output_type": "pyout",
       "prompt_number": 15,
       "text": [
        "array([ 3.16103073,  0.        ,  1.58070893,  1.90362899,  5.74588597])"
       ]
      }
     ],
     "prompt_number": 15
    },
    {
     "cell_type": "code",
     "collapsed": false,
     "input": [
      "%timeit csr_vecmat(x, A)\n",
      "%timeit A.T.dot(x)\n",
      "%timeit x.dot(A.toarray())"
     ],
     "language": "python",
     "metadata": {},
     "outputs": [
      {
       "output_type": "stream",
       "stream": "stdout",
       "text": [
        "10000 loops, best of 3: 123 \u00b5s per loop\n",
        "10000 loops, best of 3: 65 \u00b5s per loop"
       ]
      },
      {
       "output_type": "stream",
       "stream": "stdout",
       "text": [
        "\n",
        "10000 loops, best of 3: 84.1 \u00b5s per loop"
       ]
      },
      {
       "output_type": "stream",
       "stream": "stdout",
       "text": [
        "\n"
       ]
      }
     ],
     "prompt_number": 16
    },
    {
     "cell_type": "code",
     "collapsed": false,
     "input": [
      "n = 10**2\n",
      "m = n\n",
      "A = sparse.rand(n, m, density=0.4, format='csr')\n",
      "x = np.ones(n)\n",
      "%timeit csr_vecmat(x, A)\n",
      "%timeit A.T.dot(x)\n",
      "%timeit x.dot(A.toarray())"
     ],
     "language": "python",
     "metadata": {},
     "outputs": [
      {
       "output_type": "stream",
       "stream": "stdout",
       "text": [
        "10000 loops, best of 3: 148 \u00b5s per loop\n",
        "10000 loops, best of 3: 68.2 \u00b5s per loop"
       ]
      },
      {
       "output_type": "stream",
       "stream": "stdout",
       "text": [
        "\n",
        "10000 loops, best of 3: 123 \u00b5s per loop"
       ]
      },
      {
       "output_type": "stream",
       "stream": "stdout",
       "text": [
        "\n"
       ]
      }
     ],
     "prompt_number": 17
    },
    {
     "cell_type": "code",
     "collapsed": false,
     "input": [
      "n = 10**3\n",
      "m = n\n",
      "A = sparse.rand(n, m, density=0.4, format='csr')\n",
      "x = np.ones(n)"
     ],
     "language": "python",
     "metadata": {},
     "outputs": [],
     "prompt_number": 18
    },
    {
     "cell_type": "code",
     "collapsed": false,
     "input": [
      "%timeit csr_vecmat(x, A)\n",
      "%timeit A.T.dot(x)\n",
      "%timeit x.dot(A.toarray())"
     ],
     "language": "python",
     "metadata": {},
     "outputs": [
      {
       "output_type": "stream",
       "stream": "stdout",
       "text": [
        "100 loops, best of 3: 7.61 ms per loop\n",
        "1000 loops, best of 3: 470 \u00b5s per loop"
       ]
      },
      {
       "output_type": "stream",
       "stream": "stdout",
       "text": [
        "\n",
        "100 loops, best of 3: 6.42 ms per loop"
       ]
      },
      {
       "output_type": "stream",
       "stream": "stdout",
       "text": [
        "\n"
       ]
      }
     ],
     "prompt_number": 19
    },
    {
     "cell_type": "code",
     "collapsed": false,
     "input": [
      "n = 10**4\n",
      "m = n\n",
      "A = sparse.rand(n, m, density=0.4, format='csr')\n",
      "x = np.ones(n)"
     ],
     "language": "python",
     "metadata": {},
     "outputs": [],
     "prompt_number": 20
    },
    {
     "cell_type": "code",
     "collapsed": false,
     "input": [
      "%timeit csr_vecmat(x, A)\n",
      "%timeit A.T.dot(x)\n",
      "%timeit x.dot(A.toarray())"
     ],
     "language": "python",
     "metadata": {},
     "outputs": [
      {
       "output_type": "stream",
       "stream": "stdout",
       "text": [
        "1 loops, best of 3: 1.51 s per loop\n",
        "10 loops, best of 3: 49.4 ms per loop"
       ]
      },
      {
       "output_type": "stream",
       "stream": "stdout",
       "text": [
        "\n",
        "1 loops, best of 3: 946 ms per loop"
       ]
      },
      {
       "output_type": "stream",
       "stream": "stdout",
       "text": [
        "\n"
       ]
      }
     ],
     "prompt_number": 21
    },
    {
     "cell_type": "code",
     "collapsed": false,
     "input": [
      "def csc_vecmat(x, A):\n",
      "    n, m = A.shape\n",
      "    if len(x) != n:\n",
      "        raise ValueError('dimensions do not match')\n",
      "    y = np.zeros(m)\n",
      "    \n",
      "    _csc_vecmat(m, x, A.data, A.indices, A.indptr, y)\n",
      "    return y"
     ],
     "language": "python",
     "metadata": {},
     "outputs": [],
     "prompt_number": 22
    },
    {
     "cell_type": "code",
     "collapsed": false,
     "input": [
      "n = 10**3\n",
      "m = n\n",
      "A = sparse.rand(n, m, density=0.4, format='csr')\n",
      "x = np.ones(n)\n",
      "%timeit csc_vecmat(x, A)\n",
      "%timeit A.T.dot(x)\n",
      "%timeit x.dot(A.toarray())"
     ],
     "language": "python",
     "metadata": {},
     "outputs": [
      {
       "output_type": "stream",
       "stream": "stdout",
       "text": [
        "1000 loops, best of 3: 762 \u00b5s per loop\n",
        "1000 loops, best of 3: 454 \u00b5s per loop"
       ]
      },
      {
       "output_type": "stream",
       "stream": "stdout",
       "text": [
        "\n",
        "100 loops, best of 3: 6.11 ms per loop"
       ]
      },
      {
       "output_type": "stream",
       "stream": "stdout",
       "text": [
        "\n"
       ]
      }
     ],
     "prompt_number": 23
    },
    {
     "cell_type": "code",
     "collapsed": false,
     "input": [
      "n = 10**4\n",
      "m = n\n",
      "A = sparse.rand(n, m, density=0.4, format='csr')\n",
      "x = np.ones(n)\n",
      "%timeit csc_vecmat(x, A)\n",
      "%timeit A.T.dot(x)\n",
      "%timeit x.dot(A.toarray())"
     ],
     "language": "python",
     "metadata": {},
     "outputs": [
      {
       "output_type": "stream",
       "stream": "stdout",
       "text": [
        "10 loops, best of 3: 84.8 ms per loop\n",
        "10 loops, best of 3: 42.9 ms per loop"
       ]
      },
      {
       "output_type": "stream",
       "stream": "stdout",
       "text": [
        "\n",
        "1 loops, best of 3: 935 ms per loop"
       ]
      },
      {
       "output_type": "stream",
       "stream": "stdout",
       "text": [
        "\n"
       ]
      }
     ],
     "prompt_number": 24
    },
    {
     "cell_type": "code",
     "collapsed": false,
     "input": [
      "n = 10**3\n",
      "m = n\n",
      "A = sparse.rand(n, m, density=0.4, format='csr')\n",
      "x = np.ones(n)\n",
      "\n",
      "y = np.empty(m)\n",
      "A_csc = sparse.csc_matrix(A)\n",
      "%timeit _csc_vecmat(m, x, A_csc.data, A_csc.indices, A_csc.indptr, y)\n",
      "\n",
      "y = np.empty(m)\n",
      "%timeit _csr_vecmat(n, x, A.data, A.indices, A.indptr, y)"
     ],
     "language": "python",
     "metadata": {},
     "outputs": [
      {
       "output_type": "stream",
       "stream": "stdout",
       "text": [
        "1000 loops, best of 3: 751 \u00b5s per loop\n",
        "1000 loops, best of 3: 804 \u00b5s per loop"
       ]
      },
      {
       "output_type": "stream",
       "stream": "stdout",
       "text": [
        "\n"
       ]
      }
     ],
     "prompt_number": 25
    },
    {
     "cell_type": "code",
     "collapsed": false,
     "input": [],
     "language": "python",
     "metadata": {},
     "outputs": [],
     "prompt_number": 25
    }
   ],
   "metadata": {}
  }
 ]
}